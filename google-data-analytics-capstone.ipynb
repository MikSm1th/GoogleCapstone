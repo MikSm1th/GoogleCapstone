{
 "cells": [
  {
   "cell_type": "markdown",
   "id": "5baa4367",
   "metadata": {
    "papermill": {
     "duration": 0.006548,
     "end_time": "2022-12-09T03:18:14.423611",
     "exception": false,
     "start_time": "2022-12-09T03:18:14.417063",
     "status": "completed"
    },
    "tags": []
   },
   "source": [
    "# My Portfolio Project for the Coursera's Google Data Analytics Professional Certificate"
   ]
  },
  {
   "cell_type": "markdown",
   "id": "18252a24",
   "metadata": {
    "papermill": {
     "duration": 0.005694,
     "end_time": "2022-12-09T03:18:14.434476",
     "exception": false,
     "start_time": "2022-12-09T03:18:14.428782",
     "status": "completed"
    },
    "tags": []
   },
   "source": [
    "<center>\n",
    "    <img src=\"https://raw.githubusercontent.com/MikSm1th/GoogleCapstone/main/Cousera_screen_shot.png\">\n",
    "</center>"
   ]
  },
  {
   "cell_type": "markdown",
   "id": "681fa09f",
   "metadata": {
    "papermill": {
     "duration": 0.005042,
     "end_time": "2022-12-09T03:18:14.444786",
     "exception": false,
     "start_time": "2022-12-09T03:18:14.439744",
     "status": "completed"
    },
    "tags": []
   },
   "source": [
    "# Introduction\n",
    "\n",
    "I've been interested in computer programming and data science as a hobby for a few years.\\\n",
    "I have used my skills to automate repetitive tasks in my professional workflow, and to inform fantasy sports decisions.\\\n",
    "Sometimes I wonder if the skills that I have developed while pursuing this hobby have value in the job market.\\\n",
    "I took the Google Data Analytics Professional Certificate to answer this question. \n",
    "\n",
    "The team at Google have designed a simple rubric to apply to data science problems. \n",
    "- Ask\n",
    "- Prepare\n",
    "- Process\n",
    "- Analyze\n",
    "- Share\n",
    "- Act"
   ]
  },
  {
   "cell_type": "markdown",
   "id": "bc5e6195",
   "metadata": {
    "papermill": {
     "duration": 0.005841,
     "end_time": "2022-12-09T03:18:14.455454",
     "exception": false,
     "start_time": "2022-12-09T03:18:14.449613",
     "status": "completed"
    },
    "tags": []
   },
   "source": [
    "# Ask\n",
    "The problem that Google gives it's students for it's capstone project centers around a bike sharing company called Cyclistic. \\\n",
    "This company is trying to understand how it's two major customer segments use the Cyclistic service differently. \n",
    "1. Casual riders who purchase single-ride or full-day passes for the Cyclistic service. \n",
    "2. Cyclistic members who are riders that purchase annual memberships. \n",
    "\n",
    "The finance team at Cyclistic has determined that annual members are the most profitable type of customer. \\\n",
    "Our job as a data analyst is to provide insight to the marketing team for ways to convert casual riders to becoming annual members."
   ]
  },
  {
   "cell_type": "markdown",
   "id": "2833c816",
   "metadata": {
    "papermill": {
     "duration": 0.005429,
     "end_time": "2022-12-09T03:18:14.465865",
     "exception": false,
     "start_time": "2022-12-09T03:18:14.460436",
     "status": "completed"
    },
    "tags": []
   },
   "source": [
    "# Prepare\n",
    "\n",
    "We will be using real bike sharing data from the Divvy company for this capstone.\n",
    "\n",
    "The raw data for this project is available here --> [bike sharing data](https://divvy-tripdata.s3.amazonaws.com/index.html). \n",
    "\n",
    "The license for this data is available here --> [data license](https://ride.divvybikes.com/data-license-agreement).\n",
    "\n",
    "The assignment asks the student to download data files which need to be unzipped to expose a series of `.csv` files.\\\n",
    "From there the student is instructed to use spreadsheets to create the following two columns in the data: `ride_length`, and `day_of_week`."
   ]
  },
  {
   "cell_type": "markdown",
   "id": "2487fdd1",
   "metadata": {
    "papermill": {
     "duration": 0.005057,
     "end_time": "2022-12-09T03:18:14.476177",
     "exception": false,
     "start_time": "2022-12-09T03:18:14.471120",
     "status": "completed"
    },
    "tags": []
   },
   "source": [
    "# Spreadsheet versus python\n",
    "\n",
    "The Google Data Analysis certificate teaches the student how to transform data using spreadsheets.\\\n",
    "If I have to perform the same transformations on multiple datasets, the python programming language seems to be the best solution.\\\n",
    "I have sequestered my python script away from this article.\\\n",
    "For the interested reader you can find my python script here --> [Michael's python script](https://github.com/MikSm1th/GoogleCapstone/blob/main/GoogleCapstonePrepareStep.ipynb)."
   ]
  },
  {
   "cell_type": "markdown",
   "id": "87b2766b",
   "metadata": {
    "papermill": {
     "duration": 0.005061,
     "end_time": "2022-12-09T03:18:14.486316",
     "exception": false,
     "start_time": "2022-12-09T03:18:14.481255",
     "status": "completed"
    },
    "tags": []
   },
   "source": [
    "# Process\n",
    "The next step of the data analyst's job is to make sure that the data is consistent, then we will merge all of our data into one table for analysis.\\\n",
    "I have chosen the R programming language for this task.\\\n",
    "The Google Data Analytics Course teaches R programming as it's final module.\\\n",
    "Again I will seperate the process step into another notebook which the interested reader can access here -> [Michael's R script](https://github.com/MikSm1th/GoogleCapstone/blob/main/GoogleCapstoneProcessStep.ipynb)\\\n",
    "I have taken some liberty as it relates to how Google defines the exact parameters of these steps for the sake of clarity.\\\n",
    "I wanted each notebook to have a clear workflow as it relates to the steps."
   ]
  },
  {
   "cell_type": "markdown",
   "id": "552c0a0b",
   "metadata": {
    "papermill": {
     "duration": 0.004971,
     "end_time": "2022-12-09T03:18:14.496191",
     "exception": false,
     "start_time": "2022-12-09T03:18:14.491220",
     "status": "completed"
    },
    "tags": []
   },
   "source": [
    "# Analyze\n",
    "\n",
    "This is the part of the course I was most excited to experience.\\\n",
    "I felt as though it would give me clarity on how much my self-directed study has born fruit.\\\n",
    "Google did provide boiler plate code for the below analysis, so I did not bake this cake from scratch.\\\n",
    "The challenge of open source software in my experience is to take what has come before and refactor it to meet the analyst's needs.\n",
    "\n",
    "The first chunck of code below consists of loading the dataframe and getting columns into their proper data type.\\\n",
    "I loaded my large dataset into Kaggle for this analysis.\\\n",
    "My poor used Lenovo laptop from [Joe's Computer's in Lakewood OH](https://www.joeslakewoodcomputer.com) broke into a cold sweat when I tried to analyze a 1.4 GB dataset.\\\n",
    "The comments inside the code will illuminate the particular steps.\n"
   ]
  },
  {
   "cell_type": "code",
   "execution_count": 1,
   "id": "08f5384b",
   "metadata": {
    "execution": {
     "iopub.execute_input": "2022-12-09T03:18:14.511092Z",
     "iopub.status.busy": "2022-12-09T03:18:14.508920Z",
     "iopub.status.idle": "2022-12-09T03:19:27.413978Z",
     "shell.execute_reply": "2022-12-09T03:19:27.411289Z"
    },
    "papermill": {
     "duration": 72.916805,
     "end_time": "2022-12-09T03:19:27.418536",
     "exception": false,
     "start_time": "2022-12-09T03:18:14.501731",
     "status": "completed"
    },
    "tags": []
   },
   "outputs": [
    {
     "name": "stderr",
     "output_type": "stream",
     "text": [
      "── \u001b[1mAttaching packages\u001b[22m ─────────────────────────────────────── tidyverse 1.3.2 ──\n",
      "\u001b[32m✔\u001b[39m \u001b[34mggplot2\u001b[39m 3.3.6      \u001b[32m✔\u001b[39m \u001b[34mpurrr  \u001b[39m 0.3.5 \n",
      "\u001b[32m✔\u001b[39m \u001b[34mtibble \u001b[39m 3.1.8      \u001b[32m✔\u001b[39m \u001b[34mdplyr  \u001b[39m 1.0.10\n",
      "\u001b[32m✔\u001b[39m \u001b[34mtidyr  \u001b[39m 1.2.1      \u001b[32m✔\u001b[39m \u001b[34mstringr\u001b[39m 1.4.1 \n",
      "\u001b[32m✔\u001b[39m \u001b[34mreadr  \u001b[39m 2.1.3      \u001b[32m✔\u001b[39m \u001b[34mforcats\u001b[39m 0.5.2 \n",
      "── \u001b[1mConflicts\u001b[22m ────────────────────────────────────────── tidyverse_conflicts() ──\n",
      "\u001b[31m✖\u001b[39m \u001b[34mdplyr\u001b[39m::\u001b[32mfilter()\u001b[39m masks \u001b[34mstats\u001b[39m::filter()\n",
      "\u001b[31m✖\u001b[39m \u001b[34mdplyr\u001b[39m::\u001b[32mlag()\u001b[39m    masks \u001b[34mstats\u001b[39m::lag()\n",
      "\n",
      "Attaching package: ‘lubridate’\n",
      "\n",
      "\n",
      "The following objects are masked from ‘package:base’:\n",
      "\n",
      "    date, intersect, setdiff, union\n",
      "\n",
      "\n",
      "\u001b[1m\u001b[22mNew names:\n",
      "\u001b[36m•\u001b[39m `` -> `...1`\n",
      "\u001b[1mRows: \u001b[22m\u001b[34m5901463\u001b[39m \u001b[1mColumns: \u001b[22m\u001b[34m16\u001b[39m\n",
      "\u001b[36m──\u001b[39m \u001b[1mColumn specification\u001b[22m \u001b[36m────────────────────────────────────────────────────────\u001b[39m\n",
      "\u001b[1mDelimiter:\u001b[22m \",\"\n",
      "\u001b[31mchr\u001b[39m  (9): ride_id, rideable_type, start_station_name, start_station_id, end_...\n",
      "\u001b[32mdbl\u001b[39m  (5): ...1, start_lat, start_lng, end_lat, end_lng\n",
      "\u001b[34mdttm\u001b[39m (2): started_at, ended_at\n",
      "\n",
      "\u001b[36mℹ\u001b[39m Use `spec()` to retrieve the full column specification for this data.\n",
      "\u001b[36mℹ\u001b[39m Specify the column types or set `show_col_types = FALSE` to quiet this message.\n"
     ]
    },
    {
     "data": {
      "text/html": [
       "FALSE"
      ],
      "text/latex": [
       "FALSE"
      ],
      "text/markdown": [
       "FALSE"
      ],
      "text/plain": [
       "[1] FALSE"
      ]
     },
     "metadata": {},
     "output_type": "display_data"
    },
    {
     "data": {
      "text/html": [
       "TRUE"
      ],
      "text/latex": [
       "TRUE"
      ],
      "text/markdown": [
       "TRUE"
      ],
      "text/plain": [
       "[1] TRUE"
      ]
     },
     "metadata": {},
     "output_type": "display_data"
    },
    {
     "name": "stdout",
     "output_type": "stream",
     "text": [
      "Rows: 5,900,827\n",
      "Columns: 19\n",
      "$ ride_id            \u001b[3m\u001b[90m<chr>\u001b[39m\u001b[23m \"99103BB87CC6C1BB\", \"EAFCCCFB0A3FC5A1\", \"9EF4F46C57…\n",
      "$ rideable_type      \u001b[3m\u001b[90m<chr>\u001b[39m\u001b[23m \"electric_bike\", \"electric_bike\", \"electric_bike\", …\n",
      "$ started_at         \u001b[3m\u001b[90m<dttm>\u001b[39m\u001b[23m 2021-08-10 17:15:49, 2021-08-10 17:23:14, 2021-08-…\n",
      "$ ended_at           \u001b[3m\u001b[90m<dttm>\u001b[39m\u001b[23m 2021-08-10 17:22:44, 2021-08-10 17:39:24, 2021-08-…\n",
      "$ start_station_name \u001b[3m\u001b[90m<chr>\u001b[39m\u001b[23m NA, NA, NA, NA, NA, NA, NA, NA, NA, NA, NA, NA, NA,…\n",
      "$ start_station_id   \u001b[3m\u001b[90m<chr>\u001b[39m\u001b[23m NA, NA, NA, NA, NA, NA, NA, NA, NA, NA, NA, NA, NA,…\n",
      "$ end_station_name   \u001b[3m\u001b[90m<chr>\u001b[39m\u001b[23m NA, NA, NA, NA, NA, NA, NA, \"Clark St & Grace St\", …\n",
      "$ end_station_id     \u001b[3m\u001b[90m<chr>\u001b[39m\u001b[23m NA, NA, NA, NA, NA, NA, NA, \"TA1307000127\", NA, NA,…\n",
      "$ start_lat          \u001b[3m\u001b[90m<dbl>\u001b[39m\u001b[23m 41.77000, 41.77000, 41.95000, 41.97000, 41.79000, 4…\n",
      "$ start_lng          \u001b[3m\u001b[90m<dbl>\u001b[39m\u001b[23m -87.68000, -87.68000, -87.65000, -87.67000, -87.600…\n",
      "$ end_lat            \u001b[3m\u001b[90m<dbl>\u001b[39m\u001b[23m 41.77000, 41.77000, 41.97000, 41.95000, 41.77000, 4…\n",
      "$ end_lng            \u001b[3m\u001b[90m<dbl>\u001b[39m\u001b[23m -87.68000, -87.63000, -87.66000, -87.65000, -87.620…\n",
      "$ member_casual      \u001b[3m\u001b[90m<chr>\u001b[39m\u001b[23m \"member\", \"member\", \"member\", \"member\", \"member\", \"…\n",
      "$ ride_length        \u001b[3m\u001b[90m<dbl>\u001b[39m\u001b[23m 415, 970, 973, 918, 522, 395, 941, 341, 18, 1047, 3…\n",
      "$ day_of_week        \u001b[3m\u001b[90m<chr>\u001b[39m\u001b[23m \"Tuesday\", \"Tuesday\", \"Saturday\", \"Saturday\", \"Thur…\n",
      "$ date               \u001b[3m\u001b[90m<date>\u001b[39m\u001b[23m 2021-08-10, 2021-08-10, 2021-08-21, 2021-08-21, 20…\n",
      "$ month              \u001b[3m\u001b[90m<chr>\u001b[39m\u001b[23m \"08\", \"08\", \"08\", \"08\", \"08\", \"08\", \"08\", \"08\", \"08…\n",
      "$ day                \u001b[3m\u001b[90m<chr>\u001b[39m\u001b[23m \"10\", \"10\", \"21\", \"21\", \"19\", \"19\", \"19\", \"13\", \"17…\n",
      "$ year               \u001b[3m\u001b[90m<chr>\u001b[39m\u001b[23m \"2021\", \"2021\", \"2021\", \"2021\", \"2021\", \"2021\", \"20…\n"
     ]
    }
   ],
   "source": [
    "# load libraries\n",
    "library(tidyverse)\n",
    "library(lubridate)\n",
    "library(ggplot2)\n",
    "\n",
    "# load and trim csv\n",
    "all_trips <- read_csv(\"/kaggle/input/all-trips/all_trips.csv\")\n",
    "all_trips <- select(all_trips, -c('...1'))\n",
    "\n",
    "# properly formatting dates\n",
    "all_trips$date <- as.Date(all_trips$started_at)\n",
    "all_trips$month <- format(as.Date(all_trips$date), \"%m\")\n",
    "all_trips$day <- format(as.Date(all_trips$date), \"%d\")\n",
    "all_trips$year <- format(as.Date(all_trips$date), \"%Y\")\n",
    "all_trips$day_of_week <- format(as.Date(all_trips$date), \"%A\")\n",
    "\n",
    "# defining ride length\n",
    "all_trips$ride_length <- difftime(all_trips$ended_at, all_trips$started_at)\n",
    "\n",
    "# making sure the numbers are not strings\n",
    "is.factor(all_trips$ride_length)\n",
    "all_trips$ride_length <- as.numeric(as.character(all_trips$ride_length))\n",
    "is.numeric(all_trips$ride_length)\n",
    "\n",
    "# getting rid of na values and ride lengths of zero\n",
    "all_trips$ride_length[is.na(all_trips$ride_length)] <- 0\n",
    "all_trips_cleaned <- all_trips[(all_trips$ride_length>0),]\n",
    "glimpse(all_trips_cleaned)"
   ]
  },
  {
   "cell_type": "markdown",
   "id": "baf7937d",
   "metadata": {
    "papermill": {
     "duration": 0.006037,
     "end_time": "2022-12-09T03:19:27.433129",
     "exception": false,
     "start_time": "2022-12-09T03:19:27.427092",
     "status": "completed"
    },
    "tags": []
   },
   "source": [
    "# Summary statistics\n",
    "More Google recommended boiler plate code.\\\n",
    "This is standard operating procedure for any data analysis.\\\n",
    "Code comments continue to highlight the logic."
   ]
  },
  {
   "cell_type": "code",
   "execution_count": 2,
   "id": "8789bd8d",
   "metadata": {
    "execution": {
     "iopub.execute_input": "2022-12-09T03:19:27.482012Z",
     "iopub.status.busy": "2022-12-09T03:19:27.447879Z",
     "iopub.status.idle": "2022-12-09T03:19:28.013050Z",
     "shell.execute_reply": "2022-12-09T03:19:28.011338Z"
    },
    "papermill": {
     "duration": 0.576511,
     "end_time": "2022-12-09T03:19:28.015537",
     "exception": false,
     "start_time": "2022-12-09T03:19:27.439026",
     "status": "completed"
    },
    "tags": []
   },
   "outputs": [
    {
     "data": {
      "text/plain": [
       "   Min. 1st Qu.  Median    Mean 3rd Qu.    Max. \n",
       "      1     370     657    1194    1189 2497750 "
      ]
     },
     "metadata": {},
     "output_type": "display_data"
    }
   ],
   "source": [
    "# summary stats for all trips ride length\n",
    "summary(all_trips_cleaned$ride_length)"
   ]
  },
  {
   "cell_type": "code",
   "execution_count": 3,
   "id": "898085c7",
   "metadata": {
    "execution": {
     "iopub.execute_input": "2022-12-09T03:19:28.032181Z",
     "iopub.status.busy": "2022-12-09T03:19:28.030522Z",
     "iopub.status.idle": "2022-12-09T03:19:33.954736Z",
     "shell.execute_reply": "2022-12-09T03:19:33.953002Z"
    },
    "papermill": {
     "duration": 5.935943,
     "end_time": "2022-12-09T03:19:33.957586",
     "exception": false,
     "start_time": "2022-12-09T03:19:28.021643",
     "status": "completed"
    },
    "tags": []
   },
   "outputs": [
    {
     "data": {
      "text/html": [
       "<table class=\"dataframe\">\n",
       "<caption>A data.frame: 2 × 2</caption>\n",
       "<thead>\n",
       "\t<tr><th scope=col>all_trips_cleaned$member_casual</th><th scope=col>all_trips_cleaned$ride_length</th></tr>\n",
       "\t<tr><th scope=col>&lt;chr&gt;</th><th scope=col>&lt;dbl&gt;</th></tr>\n",
       "</thead>\n",
       "<tbody>\n",
       "\t<tr><td>casual</td><td>1752.9596</td></tr>\n",
       "\t<tr><td>member</td><td> 776.0127</td></tr>\n",
       "</tbody>\n",
       "</table>\n"
      ],
      "text/latex": [
       "A data.frame: 2 × 2\n",
       "\\begin{tabular}{ll}\n",
       " all\\_trips\\_cleaned\\$member\\_casual & all\\_trips\\_cleaned\\$ride\\_length\\\\\n",
       " <chr> & <dbl>\\\\\n",
       "\\hline\n",
       "\t casual & 1752.9596\\\\\n",
       "\t member &  776.0127\\\\\n",
       "\\end{tabular}\n"
      ],
      "text/markdown": [
       "\n",
       "A data.frame: 2 × 2\n",
       "\n",
       "| all_trips_cleaned$member_casual &lt;chr&gt; | all_trips_cleaned$ride_length &lt;dbl&gt; |\n",
       "|---|---|\n",
       "| casual | 1752.9596 |\n",
       "| member |  776.0127 |\n",
       "\n"
      ],
      "text/plain": [
       "  all_trips_cleaned$member_casual all_trips_cleaned$ride_length\n",
       "1 casual                          1752.9596                    \n",
       "2 member                           776.0127                    "
      ]
     },
     "metadata": {},
     "output_type": "display_data"
    }
   ],
   "source": [
    "# mean values casual vs annual member ride length\n",
    "aggregate(all_trips_cleaned$ride_length ~ all_trips_cleaned$member_casual, FUN = mean)"
   ]
  },
  {
   "cell_type": "code",
   "execution_count": 4,
   "id": "f847dc5b",
   "metadata": {
    "execution": {
     "iopub.execute_input": "2022-12-09T03:19:33.974366Z",
     "iopub.status.busy": "2022-12-09T03:19:33.972800Z",
     "iopub.status.idle": "2022-12-09T03:19:39.765131Z",
     "shell.execute_reply": "2022-12-09T03:19:39.763425Z"
    },
    "papermill": {
     "duration": 5.80344,
     "end_time": "2022-12-09T03:19:39.767606",
     "exception": false,
     "start_time": "2022-12-09T03:19:33.964166",
     "status": "completed"
    },
    "tags": []
   },
   "outputs": [
    {
     "data": {
      "text/html": [
       "<table class=\"dataframe\">\n",
       "<caption>A data.frame: 2 × 2</caption>\n",
       "<thead>\n",
       "\t<tr><th scope=col>all_trips_cleaned$member_casual</th><th scope=col>all_trips_cleaned$ride_length</th></tr>\n",
       "\t<tr><th scope=col>&lt;chr&gt;</th><th scope=col>&lt;dbl&gt;</th></tr>\n",
       "</thead>\n",
       "<tbody>\n",
       "\t<tr><td>casual</td><td>864</td></tr>\n",
       "\t<tr><td>member</td><td>541</td></tr>\n",
       "</tbody>\n",
       "</table>\n"
      ],
      "text/latex": [
       "A data.frame: 2 × 2\n",
       "\\begin{tabular}{ll}\n",
       " all\\_trips\\_cleaned\\$member\\_casual & all\\_trips\\_cleaned\\$ride\\_length\\\\\n",
       " <chr> & <dbl>\\\\\n",
       "\\hline\n",
       "\t casual & 864\\\\\n",
       "\t member & 541\\\\\n",
       "\\end{tabular}\n"
      ],
      "text/markdown": [
       "\n",
       "A data.frame: 2 × 2\n",
       "\n",
       "| all_trips_cleaned$member_casual &lt;chr&gt; | all_trips_cleaned$ride_length &lt;dbl&gt; |\n",
       "|---|---|\n",
       "| casual | 864 |\n",
       "| member | 541 |\n",
       "\n"
      ],
      "text/plain": [
       "  all_trips_cleaned$member_casual all_trips_cleaned$ride_length\n",
       "1 casual                          864                          \n",
       "2 member                          541                          "
      ]
     },
     "metadata": {},
     "output_type": "display_data"
    }
   ],
   "source": [
    "# median values casual vs annual member ride length\n",
    "aggregate(all_trips_cleaned$ride_length ~ all_trips_cleaned$member_casual, FUN = median)"
   ]
  },
  {
   "cell_type": "code",
   "execution_count": 5,
   "id": "1d91579c",
   "metadata": {
    "execution": {
     "iopub.execute_input": "2022-12-09T03:19:39.791180Z",
     "iopub.status.busy": "2022-12-09T03:19:39.789530Z",
     "iopub.status.idle": "2022-12-09T03:19:43.253720Z",
     "shell.execute_reply": "2022-12-09T03:19:43.251908Z"
    },
    "papermill": {
     "duration": 3.482067,
     "end_time": "2022-12-09T03:19:43.256265",
     "exception": false,
     "start_time": "2022-12-09T03:19:39.774198",
     "status": "completed"
    },
    "tags": []
   },
   "outputs": [
    {
     "data": {
      "text/html": [
       "<table class=\"dataframe\">\n",
       "<caption>A data.frame: 2 × 2</caption>\n",
       "<thead>\n",
       "\t<tr><th scope=col>all_trips_cleaned$member_casual</th><th scope=col>all_trips_cleaned$ride_length</th></tr>\n",
       "\t<tr><th scope=col>&lt;chr&gt;</th><th scope=col>&lt;dbl&gt;</th></tr>\n",
       "</thead>\n",
       "<tbody>\n",
       "\t<tr><td>casual</td><td>2497750</td></tr>\n",
       "\t<tr><td>member</td><td>  93594</td></tr>\n",
       "</tbody>\n",
       "</table>\n"
      ],
      "text/latex": [
       "A data.frame: 2 × 2\n",
       "\\begin{tabular}{ll}\n",
       " all\\_trips\\_cleaned\\$member\\_casual & all\\_trips\\_cleaned\\$ride\\_length\\\\\n",
       " <chr> & <dbl>\\\\\n",
       "\\hline\n",
       "\t casual & 2497750\\\\\n",
       "\t member &   93594\\\\\n",
       "\\end{tabular}\n"
      ],
      "text/markdown": [
       "\n",
       "A data.frame: 2 × 2\n",
       "\n",
       "| all_trips_cleaned$member_casual &lt;chr&gt; | all_trips_cleaned$ride_length &lt;dbl&gt; |\n",
       "|---|---|\n",
       "| casual | 2497750 |\n",
       "| member |   93594 |\n",
       "\n"
      ],
      "text/plain": [
       "  all_trips_cleaned$member_casual all_trips_cleaned$ride_length\n",
       "1 casual                          2497750                      \n",
       "2 member                            93594                      "
      ]
     },
     "metadata": {},
     "output_type": "display_data"
    }
   ],
   "source": [
    "# max values casual vs annual member ride length\n",
    "aggregate(all_trips_cleaned$ride_length ~ all_trips_cleaned$member_casual, FUN = max)"
   ]
  },
  {
   "cell_type": "code",
   "execution_count": 6,
   "id": "c7389cb6",
   "metadata": {
    "execution": {
     "iopub.execute_input": "2022-12-09T03:19:43.273944Z",
     "iopub.status.busy": "2022-12-09T03:19:43.272369Z",
     "iopub.status.idle": "2022-12-09T03:19:46.874723Z",
     "shell.execute_reply": "2022-12-09T03:19:46.872861Z"
    },
    "papermill": {
     "duration": 3.614104,
     "end_time": "2022-12-09T03:19:46.877565",
     "exception": false,
     "start_time": "2022-12-09T03:19:43.263461",
     "status": "completed"
    },
    "tags": []
   },
   "outputs": [
    {
     "data": {
      "text/html": [
       "<table class=\"dataframe\">\n",
       "<caption>A data.frame: 2 × 2</caption>\n",
       "<thead>\n",
       "\t<tr><th scope=col>all_trips_cleaned$member_casual</th><th scope=col>all_trips_cleaned$ride_length</th></tr>\n",
       "\t<tr><th scope=col>&lt;chr&gt;</th><th scope=col>&lt;dbl&gt;</th></tr>\n",
       "</thead>\n",
       "<tbody>\n",
       "\t<tr><td>casual</td><td>1</td></tr>\n",
       "\t<tr><td>member</td><td>1</td></tr>\n",
       "</tbody>\n",
       "</table>\n"
      ],
      "text/latex": [
       "A data.frame: 2 × 2\n",
       "\\begin{tabular}{ll}\n",
       " all\\_trips\\_cleaned\\$member\\_casual & all\\_trips\\_cleaned\\$ride\\_length\\\\\n",
       " <chr> & <dbl>\\\\\n",
       "\\hline\n",
       "\t casual & 1\\\\\n",
       "\t member & 1\\\\\n",
       "\\end{tabular}\n"
      ],
      "text/markdown": [
       "\n",
       "A data.frame: 2 × 2\n",
       "\n",
       "| all_trips_cleaned$member_casual &lt;chr&gt; | all_trips_cleaned$ride_length &lt;dbl&gt; |\n",
       "|---|---|\n",
       "| casual | 1 |\n",
       "| member | 1 |\n",
       "\n"
      ],
      "text/plain": [
       "  all_trips_cleaned$member_casual all_trips_cleaned$ride_length\n",
       "1 casual                          1                            \n",
       "2 member                          1                            "
      ]
     },
     "metadata": {},
     "output_type": "display_data"
    }
   ],
   "source": [
    "# min values casual vs annual member ride length\n",
    "aggregate(all_trips_cleaned$ride_length ~ all_trips_cleaned$member_casual, FUN = min)"
   ]
  },
  {
   "cell_type": "code",
   "execution_count": 7,
   "id": "8718d168",
   "metadata": {
    "execution": {
     "iopub.execute_input": "2022-12-09T03:19:46.895448Z",
     "iopub.status.busy": "2022-12-09T03:19:46.893676Z",
     "iopub.status.idle": "2022-12-09T03:19:51.881499Z",
     "shell.execute_reply": "2022-12-09T03:19:51.879738Z"
    },
    "papermill": {
     "duration": 5.000623,
     "end_time": "2022-12-09T03:19:51.885071",
     "exception": false,
     "start_time": "2022-12-09T03:19:46.884448",
     "status": "completed"
    },
    "tags": []
   },
   "outputs": [
    {
     "data": {
      "text/html": [
       "<table class=\"dataframe\">\n",
       "<caption>A data.frame: 14 × 3</caption>\n",
       "<thead>\n",
       "\t<tr><th scope=col>all_trips_cleaned$member_casual</th><th scope=col>all_trips_cleaned$day_of_week</th><th scope=col>all_trips_cleaned$ride_length</th></tr>\n",
       "\t<tr><th scope=col>&lt;chr&gt;</th><th scope=col>&lt;ord&gt;</th><th scope=col>&lt;dbl&gt;</th></tr>\n",
       "</thead>\n",
       "<tbody>\n",
       "\t<tr><td>casual</td><td>Sunday   </td><td>2038.3645</td></tr>\n",
       "\t<tr><td>member</td><td>Sunday   </td><td> 877.9249</td></tr>\n",
       "\t<tr><td>casual</td><td>Monday   </td><td>1783.4532</td></tr>\n",
       "\t<tr><td>member</td><td>Monday   </td><td> 754.0940</td></tr>\n",
       "\t<tr><td>casual</td><td>Tuesday  </td><td>1527.3643</td></tr>\n",
       "\t<tr><td>member</td><td>Tuesday  </td><td> 728.8203</td></tr>\n",
       "\t<tr><td>casual</td><td>Wednesday</td><td>1500.2268</td></tr>\n",
       "\t<tr><td>member</td><td>Wednesday</td><td> 730.4306</td></tr>\n",
       "\t<tr><td>casual</td><td>Thursday </td><td>1571.9136</td></tr>\n",
       "\t<tr><td>member</td><td>Thursday </td><td> 744.4289</td></tr>\n",
       "\t<tr><td>casual</td><td>Friday   </td><td>1644.5874</td></tr>\n",
       "\t<tr><td>member</td><td>Friday   </td><td> 756.3981</td></tr>\n",
       "\t<tr><td>casual</td><td>Saturday </td><td>1910.3282</td></tr>\n",
       "\t<tr><td>member</td><td>Saturday </td><td> 868.5031</td></tr>\n",
       "</tbody>\n",
       "</table>\n"
      ],
      "text/latex": [
       "A data.frame: 14 × 3\n",
       "\\begin{tabular}{lll}\n",
       " all\\_trips\\_cleaned\\$member\\_casual & all\\_trips\\_cleaned\\$day\\_of\\_week & all\\_trips\\_cleaned\\$ride\\_length\\\\\n",
       " <chr> & <ord> & <dbl>\\\\\n",
       "\\hline\n",
       "\t casual & Sunday    & 2038.3645\\\\\n",
       "\t member & Sunday    &  877.9249\\\\\n",
       "\t casual & Monday    & 1783.4532\\\\\n",
       "\t member & Monday    &  754.0940\\\\\n",
       "\t casual & Tuesday   & 1527.3643\\\\\n",
       "\t member & Tuesday   &  728.8203\\\\\n",
       "\t casual & Wednesday & 1500.2268\\\\\n",
       "\t member & Wednesday &  730.4306\\\\\n",
       "\t casual & Thursday  & 1571.9136\\\\\n",
       "\t member & Thursday  &  744.4289\\\\\n",
       "\t casual & Friday    & 1644.5874\\\\\n",
       "\t member & Friday    &  756.3981\\\\\n",
       "\t casual & Saturday  & 1910.3282\\\\\n",
       "\t member & Saturday  &  868.5031\\\\\n",
       "\\end{tabular}\n"
      ],
      "text/markdown": [
       "\n",
       "A data.frame: 14 × 3\n",
       "\n",
       "| all_trips_cleaned$member_casual &lt;chr&gt; | all_trips_cleaned$day_of_week &lt;ord&gt; | all_trips_cleaned$ride_length &lt;dbl&gt; |\n",
       "|---|---|---|\n",
       "| casual | Sunday    | 2038.3645 |\n",
       "| member | Sunday    |  877.9249 |\n",
       "| casual | Monday    | 1783.4532 |\n",
       "| member | Monday    |  754.0940 |\n",
       "| casual | Tuesday   | 1527.3643 |\n",
       "| member | Tuesday   |  728.8203 |\n",
       "| casual | Wednesday | 1500.2268 |\n",
       "| member | Wednesday |  730.4306 |\n",
       "| casual | Thursday  | 1571.9136 |\n",
       "| member | Thursday  |  744.4289 |\n",
       "| casual | Friday    | 1644.5874 |\n",
       "| member | Friday    |  756.3981 |\n",
       "| casual | Saturday  | 1910.3282 |\n",
       "| member | Saturday  |  868.5031 |\n",
       "\n"
      ],
      "text/plain": [
       "   all_trips_cleaned$member_casual all_trips_cleaned$day_of_week\n",
       "1  casual                          Sunday                       \n",
       "2  member                          Sunday                       \n",
       "3  casual                          Monday                       \n",
       "4  member                          Monday                       \n",
       "5  casual                          Tuesday                      \n",
       "6  member                          Tuesday                      \n",
       "7  casual                          Wednesday                    \n",
       "8  member                          Wednesday                    \n",
       "9  casual                          Thursday                     \n",
       "10 member                          Thursday                     \n",
       "11 casual                          Friday                       \n",
       "12 member                          Friday                       \n",
       "13 casual                          Saturday                     \n",
       "14 member                          Saturday                     \n",
       "   all_trips_cleaned$ride_length\n",
       "1  2038.3645                    \n",
       "2   877.9249                    \n",
       "3  1783.4532                    \n",
       "4   754.0940                    \n",
       "5  1527.3643                    \n",
       "6   728.8203                    \n",
       "7  1500.2268                    \n",
       "8   730.4306                    \n",
       "9  1571.9136                    \n",
       "10  744.4289                    \n",
       "11 1644.5874                    \n",
       "12  756.3981                    \n",
       "13 1910.3282                    \n",
       "14  868.5031                    "
      ]
     },
     "metadata": {},
     "output_type": "display_data"
    }
   ],
   "source": [
    "# ordering the days of the week for logic\n",
    "all_trips_cleaned$day_of_week <- ordered(all_trips_cleaned$day_of_week, levels=c(\"Sunday\", \"Monday\", \"Tuesday\", \"Wednesday\", \"Thursday\", \"Friday\", \"Saturday\"))\n",
    "# mean values casual vs annual member ride length by day\n",
    "aggregate(all_trips_cleaned$ride_length ~ all_trips_cleaned$member_casual + all_trips_cleaned$day_of_week, FUN = mean)"
   ]
  },
  {
   "cell_type": "code",
   "execution_count": 8,
   "id": "5953d204",
   "metadata": {
    "execution": {
     "iopub.execute_input": "2022-12-09T03:19:51.905683Z",
     "iopub.status.busy": "2022-12-09T03:19:51.904101Z",
     "iopub.status.idle": "2022-12-09T03:19:58.226157Z",
     "shell.execute_reply": "2022-12-09T03:19:58.224331Z"
    },
    "papermill": {
     "duration": 6.335393,
     "end_time": "2022-12-09T03:19:58.228961",
     "exception": false,
     "start_time": "2022-12-09T03:19:51.893568",
     "status": "completed"
    },
    "tags": []
   },
   "outputs": [
    {
     "name": "stderr",
     "output_type": "stream",
     "text": [
      "\u001b[1m\u001b[22m`summarise()` has grouped output by 'member_casual'. You can override using the\n",
      "`.groups` argument.\n"
     ]
    },
    {
     "data": {
      "text/html": [
       "<table class=\"dataframe\">\n",
       "<caption>A grouped_df: 14 × 4</caption>\n",
       "<thead>\n",
       "\t<tr><th scope=col>member_casual</th><th scope=col>weekday</th><th scope=col>number_of_rides</th><th scope=col>average_duration</th></tr>\n",
       "\t<tr><th scope=col>&lt;chr&gt;</th><th scope=col>&lt;ord&gt;</th><th scope=col>&lt;int&gt;</th><th scope=col>&lt;dbl&gt;</th></tr>\n",
       "</thead>\n",
       "<tbody>\n",
       "\t<tr><td>casual</td><td>Sun</td><td>475539</td><td>2038.3645</td></tr>\n",
       "\t<tr><td>casual</td><td>Mon</td><td>299626</td><td>1783.4532</td></tr>\n",
       "\t<tr><td>casual</td><td>Tue</td><td>273782</td><td>1527.3643</td></tr>\n",
       "\t<tr><td>casual</td><td>Wed</td><td>281757</td><td>1500.2268</td></tr>\n",
       "\t<tr><td>casual</td><td>Thu</td><td>316087</td><td>1571.9136</td></tr>\n",
       "\t<tr><td>casual</td><td>Fri</td><td>347599</td><td>1644.5874</td></tr>\n",
       "\t<tr><td>casual</td><td>Sat</td><td>527499</td><td>1910.3282</td></tr>\n",
       "\t<tr><td>member</td><td>Sun</td><td>417918</td><td> 877.9249</td></tr>\n",
       "\t<tr><td>member</td><td>Mon</td><td>472359</td><td> 754.0940</td></tr>\n",
       "\t<tr><td>member</td><td>Tue</td><td>523347</td><td> 728.8203</td></tr>\n",
       "\t<tr><td>member</td><td>Wed</td><td>522582</td><td> 730.4306</td></tr>\n",
       "\t<tr><td>member</td><td>Thu</td><td>522627</td><td> 744.4289</td></tr>\n",
       "\t<tr><td>member</td><td>Fri</td><td>466647</td><td> 756.3981</td></tr>\n",
       "\t<tr><td>member</td><td>Sat</td><td>453458</td><td> 868.5031</td></tr>\n",
       "</tbody>\n",
       "</table>\n"
      ],
      "text/latex": [
       "A grouped\\_df: 14 × 4\n",
       "\\begin{tabular}{llll}\n",
       " member\\_casual & weekday & number\\_of\\_rides & average\\_duration\\\\\n",
       " <chr> & <ord> & <int> & <dbl>\\\\\n",
       "\\hline\n",
       "\t casual & Sun & 475539 & 2038.3645\\\\\n",
       "\t casual & Mon & 299626 & 1783.4532\\\\\n",
       "\t casual & Tue & 273782 & 1527.3643\\\\\n",
       "\t casual & Wed & 281757 & 1500.2268\\\\\n",
       "\t casual & Thu & 316087 & 1571.9136\\\\\n",
       "\t casual & Fri & 347599 & 1644.5874\\\\\n",
       "\t casual & Sat & 527499 & 1910.3282\\\\\n",
       "\t member & Sun & 417918 &  877.9249\\\\\n",
       "\t member & Mon & 472359 &  754.0940\\\\\n",
       "\t member & Tue & 523347 &  728.8203\\\\\n",
       "\t member & Wed & 522582 &  730.4306\\\\\n",
       "\t member & Thu & 522627 &  744.4289\\\\\n",
       "\t member & Fri & 466647 &  756.3981\\\\\n",
       "\t member & Sat & 453458 &  868.5031\\\\\n",
       "\\end{tabular}\n"
      ],
      "text/markdown": [
       "\n",
       "A grouped_df: 14 × 4\n",
       "\n",
       "| member_casual &lt;chr&gt; | weekday &lt;ord&gt; | number_of_rides &lt;int&gt; | average_duration &lt;dbl&gt; |\n",
       "|---|---|---|---|\n",
       "| casual | Sun | 475539 | 2038.3645 |\n",
       "| casual | Mon | 299626 | 1783.4532 |\n",
       "| casual | Tue | 273782 | 1527.3643 |\n",
       "| casual | Wed | 281757 | 1500.2268 |\n",
       "| casual | Thu | 316087 | 1571.9136 |\n",
       "| casual | Fri | 347599 | 1644.5874 |\n",
       "| casual | Sat | 527499 | 1910.3282 |\n",
       "| member | Sun | 417918 |  877.9249 |\n",
       "| member | Mon | 472359 |  754.0940 |\n",
       "| member | Tue | 523347 |  728.8203 |\n",
       "| member | Wed | 522582 |  730.4306 |\n",
       "| member | Thu | 522627 |  744.4289 |\n",
       "| member | Fri | 466647 |  756.3981 |\n",
       "| member | Sat | 453458 |  868.5031 |\n",
       "\n"
      ],
      "text/plain": [
       "   member_casual weekday number_of_rides average_duration\n",
       "1  casual        Sun     475539          2038.3645       \n",
       "2  casual        Mon     299626          1783.4532       \n",
       "3  casual        Tue     273782          1527.3643       \n",
       "4  casual        Wed     281757          1500.2268       \n",
       "5  casual        Thu     316087          1571.9136       \n",
       "6  casual        Fri     347599          1644.5874       \n",
       "7  casual        Sat     527499          1910.3282       \n",
       "8  member        Sun     417918           877.9249       \n",
       "9  member        Mon     472359           754.0940       \n",
       "10 member        Tue     523347           728.8203       \n",
       "11 member        Wed     522582           730.4306       \n",
       "12 member        Thu     522627           744.4289       \n",
       "13 member        Fri     466647           756.3981       \n",
       "14 member        Sat     453458           868.5031       "
      ]
     },
     "metadata": {},
     "output_type": "display_data"
    }
   ],
   "source": [
    "# putting the above analysis into a dataframe for future use\n",
    "all_trips_visualized <- all_trips_cleaned %>% \n",
    "  mutate(weekday = wday(started_at, label = TRUE)) %>%  \n",
    "  group_by(member_casual, weekday) %>%                   \n",
    "  summarise(number_of_rides = n()\n",
    "  ,average_duration = mean(ride_length)) %>%           \n",
    "  arrange(member_casual, weekday)    \n",
    "View(all_trips_visualized)"
   ]
  },
  {
   "cell_type": "code",
   "execution_count": 9,
   "id": "641855d0",
   "metadata": {
    "execution": {
     "iopub.execute_input": "2022-12-09T03:19:58.247452Z",
     "iopub.status.busy": "2022-12-09T03:19:58.245796Z",
     "iopub.status.idle": "2022-12-09T03:19:58.862458Z",
     "shell.execute_reply": "2022-12-09T03:19:58.860514Z"
    },
    "papermill": {
     "duration": 0.629061,
     "end_time": "2022-12-09T03:19:58.865429",
     "exception": false,
     "start_time": "2022-12-09T03:19:58.236368",
     "status": "completed"
    },
    "tags": []
   },
   "outputs": [
    {
     "data": {
      "image/png": "[encoded data removed]"
     },
     "metadata": {
      "image/png": {
       "height": 420,
       "width": 420
      }
     },
     "output_type": "display_data"
    }
   ],
   "source": [
    "# visualize results by number of rides\n",
    "all_trips_number_of_rides <- all_trips_visualized %>% \n",
    "  ggplot(aes(x = weekday, y = number_of_rides, fill = member_casual)) +\n",
    "  geom_col(position = \"dodge\")\n",
    "all_trips_number_of_rides"
   ]
  },
  {
   "cell_type": "code",
   "execution_count": 10,
   "id": "2ff0dee0",
   "metadata": {
    "execution": {
     "iopub.execute_input": "2022-12-09T03:19:58.886450Z",
     "iopub.status.busy": "2022-12-09T03:19:58.884842Z",
     "iopub.status.idle": "2022-12-09T03:19:59.230681Z",
     "shell.execute_reply": "2022-12-09T03:19:59.228772Z"
    },
    "papermill": {
     "duration": 0.358143,
     "end_time": "2022-12-09T03:19:59.232995",
     "exception": false,
     "start_time": "2022-12-09T03:19:58.874852",
     "status": "completed"
    },
    "tags": []
   },
   "outputs": [
    {
     "data": {
      "image/png": "[encoded data removed]"
     },
     "metadata": {
      "image/png": {
       "height": 420,
       "width": 420
      }
     },
     "output_type": "display_data"
    }
   ],
   "source": [
    "# visualize results by length of ride  \n",
    "all_trips_average_length <- all_trips_visualized %>% \n",
    "  ggplot(aes(x = weekday, y = average_duration, fill = member_casual)) +\n",
    "  geom_col(position = \"dodge\")\n",
    "all_trips_average_length"
   ]
  },
  {
   "cell_type": "markdown",
   "id": "ef25f343",
   "metadata": {
    "papermill": {
     "duration": 0.008604,
     "end_time": "2022-12-09T03:19:59.249668",
     "exception": false,
     "start_time": "2022-12-09T03:19:59.241064",
     "status": "completed"
    },
    "tags": []
   },
   "source": [
    "# Share \n",
    "\n",
    "The main thrust of the share section is to evolve the above graphs into a more coherent presentation.\\\n",
    "Continuing with my R code I will leverage the wonderful features of the ggplot package.\\\n",
    "Our first step is to create a graph with a better color scheme.\\\n",
    "I am not a designer so I borrowed the design methodology of the [datawrapper blog](https://blog.datawrapper.de/beautifulcolors/).\\\n",
    "I chose jade and steel blue as my color scheme.\\\n",
    "I will also call an options function to turn off scientific notation."
   ]
  },
  {
   "cell_type": "code",
   "execution_count": 11,
   "id": "011d8d9b",
   "metadata": {
    "execution": {
     "iopub.execute_input": "2022-12-09T03:19:59.270257Z",
     "iopub.status.busy": "2022-12-09T03:19:59.268551Z",
     "iopub.status.idle": "2022-12-09T03:20:01.263712Z",
     "shell.execute_reply": "2022-12-09T03:20:01.262041Z"
    },
    "papermill": {
     "duration": 2.00845,
     "end_time": "2022-12-09T03:20:01.266587",
     "exception": false,
     "start_time": "2022-12-09T03:19:59.258137",
     "status": "completed"
    },
    "tags": []
   },
   "outputs": [
    {
     "data": {
      "image/png": "[encoded data removed]"
     },
     "metadata": {
      "image/png": {
       "height": 420,
       "width": 420
      }
     },
     "output_type": "display_data"
    },
    {
     "data": {
      "image/png": "[encoded data removed]"
     },
     "metadata": {
      "image/png": {
       "height": 420,
       "width": 420
      }
     },
     "output_type": "display_data"
    }
   ],
   "source": [
    "# Turning off scientific notation \n",
    "options(scipen=999)\n",
    "\n",
    "# visualize results by length of ride  \n",
    "all_trips_average_length <- all_trips_visualized %>% \n",
    "  ggplot(aes(x = weekday, y = average_duration, fill = member_casual)) +\n",
    "  geom_col(position = \"dodge\") +\n",
    "  scale_fill_manual(name=\"Type of rider\", values=c(\"#00A36C\", \"#4682B4\")) +\n",
    "  xlab(\"Day of the week\") + ylab(\"Average duration of ride\")\n",
    "\n",
    "all_trips_number_of_rides <- all_trips_visualized %>% \n",
    "  ggplot(aes(x = weekday, y = number_of_rides, fill = member_casual)) +\n",
    "  geom_col(position = \"dodge\") +\n",
    "  scale_fill_manual(name=\"Type of rider\",values=c(\"#00A36C\", \"#4682B4\")) +\n",
    "  xlab(\"Day of the week\") + ylab(\"Number of rides\")\n",
    "\n",
    "all_trips_average_length\n",
    "all_trips_number_of_rides"
   ]
  },
  {
   "cell_type": "markdown",
   "id": "6b63e1d3",
   "metadata": {
    "papermill": {
     "duration": 0.009676,
     "end_time": "2022-12-09T03:20:01.286375",
     "exception": false,
     "start_time": "2022-12-09T03:20:01.276699",
     "status": "completed"
    },
    "tags": []
   },
   "source": [
    "# Act\n",
    "\n",
    "From here I will add these data visualizations to a Google slides presentation that I would present to stakeholders.\n",
    "\n",
    "That Google Slides presentation lives -> [here](https://docs.google.com/presentation/d/e/2PACX-1vSnoH7yY126F-MoqfZfNNUFc3ApGFiv2XDauFOaNnBB5b7ME9wv6TY8Sv9jHQmB5pcpOT-aM9aadc-G/pub?start=false&loop=false&delayms=10000).\\\n",
    "At the end of the slideshow, I make some recommendations to the Cyclistic marketing team about how to leverage these insights into actionable steps.\\\n",
    "That completes the Act phase of the analysis, and the completion of the Capstone."
   ]
  },
  {
   "cell_type": "markdown",
   "id": "d04ea7ab",
   "metadata": {
    "papermill": {
     "duration": 0.009354,
     "end_time": "2022-12-09T03:20:01.304938",
     "exception": false,
     "start_time": "2022-12-09T03:20:01.295584",
     "status": "completed"
    },
    "tags": []
   },
   "source": [
    "# Conclusion and Gratitude\n",
    "\n",
    "I am grateful both to the Cousera and Google teams for putting together such a great course on data analytics.\\\n",
    "I am both inspired and humbled by all the great content on the Cousera platform.\\\n",
    "Being a student of technology at this late stage of my life has been intimidating.\\\n",
    "The Coursera platform has helped me navigate these waters with ease.\\\n",
    "If you are interested in getting in contact with me my email is: thiscuriousquest@gmail.com.\\\n",
    "You can find me on LinkedIn [here](https://www.linkedin.com/in/michael-smith-7a743267/).\\\n",
    "If you've made it this far, thanks for your time."
   ]
  }
 ],
 "metadata": {
  "kernelspec": {
   "display_name": "R",
   "language": "R",
   "name": "ir"
  },
  "language_info": {
   "codemirror_mode": "r",
   "file_extension": ".r",
   "mimetype": "text/x-r-source",
   "name": "R",
   "pygments_lexer": "r",
   "version": "4.0.5"
  },
  "papermill": {
   "default_parameters": {},
   "duration": 111.87167,
   "end_time": "2022-12-09T03:20:01.639094",
   "environment_variables": {},
   "exception": null,
   "input_path": "__notebook__.ipynb",
   "output_path": "__notebook__.ipynb",
   "parameters": {},
   "start_time": "2022-12-09T03:18:09.767424",
   "version": "2.4.0"
  }
 },
 "nbformat": 4,
 "nbformat_minor": 5
}
