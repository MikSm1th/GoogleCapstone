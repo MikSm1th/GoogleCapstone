{
 "cells": [
  {
   "cell_type": "markdown",
   "id": "0d54a49b-b0e4-4dde-91ba-fab8a347f19f",
   "metadata": {},
   "source": [
    "## Google Capstone Process Step\n",
    "\n",
    "For the following script to work the user needs a data folder in their working directory with two subfolders:\n",
    "1. raw\n",
    "2. time_filtered\n",
    "\n",
    "![file_tree](https://github.com/MikSm1th/GoogleCapstone/blob/main/file_tree.png?raw=true)"
   ]
  },
  {
   "cell_type": "code",
   "execution_count": 1,
   "id": "a920581f-54e8-46dc-b1b8-16eb94e9acd7",
   "metadata": {},
   "outputs": [],
   "source": [
    "import glob as gl\n",
    "import pandas as pd\n",
    "import datetime as dt"
   ]
  },
  {
   "cell_type": "code",
   "execution_count": 2,
   "id": "0cc64481-baaa-4599-817a-bb8bfa6654ac",
   "metadata": {},
   "outputs": [
    {
     "data": {
      "text/plain": [
       "['./data/raw/202201-divvy-tripdata.csv',\n",
       " './data/raw/202112-divvy-tripdata.csv',\n",
       " './data/raw/202204-divvy-tripdata.csv',\n",
       " './data/raw/202202-divvy-tripdata.csv',\n",
       " './data/raw/202207-divvy-tripdata.csv',\n",
       " './data/raw/202206-divvy-tripdata.csv',\n",
       " './data/raw/202108-divvy-tripdata.csv',\n",
       " './data/raw/202203-divvy-tripdata.csv',\n",
       " './data/raw/202205-divvy-tripdata.csv',\n",
       " './data/raw/202110-divvy-tripdata.csv',\n",
       " './data/raw/202109-divvy-tripdata.csv',\n",
       " './data/raw/202111-divvy-tripdata.csv']"
      ]
     },
     "execution_count": 2,
     "metadata": {},
     "output_type": "execute_result"
    }
   ],
   "source": [
    "def compile_list_of_dataframes(glob_pattern):\n",
    "    raw_df_list = [f for f in gl.glob(glob_pattern)]\n",
    "    raw_df_list_filenames = [i[11:] for i in raw_df_list]\n",
    "    return raw_df_list, raw_df_list_filenames\n",
    "\n",
    "glob_pattern = './data/raw/*.csv'\n",
    "df_list, filenames = compile_list_of_dataframes(glob_pattern)\n",
    "df_list"
   ]
  },
  {
   "cell_type": "code",
   "execution_count": 3,
   "id": "fe918454-010f-403d-a07b-2a01c37410fc",
   "metadata": {
    "scrolled": true,
    "tags": []
   },
   "outputs": [],
   "source": [
    "def time_filtered(df):\n",
    "    temp_df = pd.read_csv(df) \n",
    "    \n",
    "    temp_df['ride_length'] = (pd.to_datetime(temp_df.ended_at)\n",
    "                            - pd.to_datetime(temp_df.started_at))\n",
    "    \n",
    "    temp_df['day_of_week'] = (pd.to_datetime(temp_df.started_at)\n",
    "                                .dt.day_name())\n",
    "    return temp_df"
   ]
  },
  {
   "cell_type": "code",
   "execution_count": 4,
   "id": "8dabc4bf-c251-44f2-b0ba-6459eeb8ecf0",
   "metadata": {},
   "outputs": [],
   "source": [
    "def create_time_filtered_copy(df, file_name, dest_path = './data/time_filtered/'):\n",
    "    df.to_csv(dest_path + file_name, index = False)"
   ]
  },
  {
   "cell_type": "code",
   "execution_count": 5,
   "id": "70c57987-c19a-4f8c-b73f-300868762d21",
   "metadata": {},
   "outputs": [
    {
     "name": "stdout",
     "output_type": "stream",
     "text": [
      "202201-divvy-tripdata.csv ./data/raw/202201-divvy-tripdata.csv\n",
      "202112-divvy-tripdata.csv ./data/raw/202112-divvy-tripdata.csv\n",
      "202204-divvy-tripdata.csv ./data/raw/202204-divvy-tripdata.csv\n",
      "202202-divvy-tripdata.csv ./data/raw/202202-divvy-tripdata.csv\n",
      "202207-divvy-tripdata.csv ./data/raw/202207-divvy-tripdata.csv\n",
      "202206-divvy-tripdata.csv ./data/raw/202206-divvy-tripdata.csv\n",
      "202108-divvy-tripdata.csv ./data/raw/202108-divvy-tripdata.csv\n",
      "202203-divvy-tripdata.csv ./data/raw/202203-divvy-tripdata.csv\n",
      "202205-divvy-tripdata.csv ./data/raw/202205-divvy-tripdata.csv\n",
      "202110-divvy-tripdata.csv ./data/raw/202110-divvy-tripdata.csv\n",
      "202109-divvy-tripdata.csv ./data/raw/202109-divvy-tripdata.csv\n",
      "202111-divvy-tripdata.csv ./data/raw/202111-divvy-tripdata.csv\n"
     ]
    }
   ],
   "source": [
    "for n, df in enumerate(df_list):\n",
    "    temp_df = time_filtered(df)\n",
    "    create_time_filtered_copy(temp_df, filenames[n])\n",
    "    print(filenames[n], df)"
   ]
  }
 ],
 "metadata": {
  "kernelspec": {
   "display_name": "sera",
   "language": "python",
   "name": "sera"
  },
  "language_info": {
   "codemirror_mode": {
    "name": "ipython",
    "version": 3
   },
   "file_extension": ".py",
   "mimetype": "text/x-python",
   "name": "python",
   "nbconvert_exporter": "python",
   "pygments_lexer": "ipython3",
   "version": "3.8.10"
  }
 },
 "nbformat": 4,
 "nbformat_minor": 5
}
