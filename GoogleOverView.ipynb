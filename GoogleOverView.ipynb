{
 "cells": [
  {
   "cell_type": "markdown",
   "id": "361b490b-321b-43e3-b26d-1f8c8f0d9352",
   "metadata": {},
   "source": [
    "# My Portfolio Project for the Coursera's Google Data Analytics Professional Certificate"
   ]
  },
  {
   "cell_type": "markdown",
   "id": "d62e1865-5a78-4769-9096-3e73e28d7d66",
   "metadata": {},
   "source": [
    "<center>\n",
    "    <img src=\"https://i.imgflip.com/6xk6i7.jpg\">\n",
    "</center>"
   ]
  },
  {
   "cell_type": "markdown",
   "id": "d16525de-befa-4184-97bf-450305844834",
   "metadata": {},
   "source": [
    "I've been interested in computer programming and data science as a hobby for a few years. I have used my skills to automate repetitive tasks in my professional workflow, and to inform fantasy sports decisions. Sometimes I wonder if the skills that I have developed while pursuing this hobby have value in the job market. I took the Google Data Analytics Professional Certificate to answer this question. "
   ]
  },
  {
   "cell_type": "markdown",
   "id": "bdd71bfc-eb9b-4559-8f34-8c81ee1bc9ac",
   "metadata": {},
   "source": [
    "The team at Google have designed a simple rubric to apply to data science problems. \n",
    "- Ask\n",
    "- Prepare\n",
    "- Process\n",
    "- Analyze\n",
    "- Share\n",
    "- Act"
   ]
  },
  {
   "cell_type": "markdown",
   "id": "dec87e3a-215b-4aa8-a8d1-c96c322f58a5",
   "metadata": {},
   "source": [
    "This article will highlight my work in the process and analyze steps of this rubric, while simply summarizing the other four steps. \n",
    "\n",
    "The process and analyze steps are the parts of a data scientist's workflow where the code comes in, and is also the part of the workflow in which I am most interested. \n",
    "\n",
    "To be clear, the more I learn about data science, the more I recognize that communicating properly with stakeholders is the 'secret sauce' of a successful data analysis project. I studied language and dramatic arts as an undergraduate, and have a deep respect for the discipline needed to be a successful communicator. To that end I will simply offer the coding components of the solution. If anyone reading this is interested in a more through deep dive into communication skills, feel free to reach out. "
   ]
  },
  {
   "cell_type": "markdown",
   "id": "e1eaa85d-5594-44d8-a95c-e69c0693c51d",
   "metadata": {},
   "source": [
    "### Ask, Prepare, Process"
   ]
  },
  {
   "cell_type": "markdown",
   "id": "3ddbac5f-d274-4843-a087-1f2f667040e9",
   "metadata": {},
   "source": [
    "One of the business problems that Google offers at the end of its course centers around a bike sharing company. The problem that the bike sharing company is trying to solve is to understand how casual riders differ from annual subscription riders.\n",
    "\n",
    "The raw data for this project is available here --> [bike sharing data](https://divvy-tripdata.s3.amazonaws.com/index.html). \n",
    "\n",
    "The license for this data is available here --> [data license](https://ride.divvybikes.com/data-license-agreement)."
   ]
  },
  {
   "cell_type": "markdown",
   "id": "a93cf958-eb04-444c-b43d-2cf566f31554",
   "metadata": {},
   "source": [
    "The assignment asks the student to download data files which need to be unzipped to expose a series of csv files. From there the student is instructed to use spreadsheets to create the following two columns in the data: `ride_length`, and `day_of_week`."
   ]
  },
  {
   "cell_type": "markdown",
   "id": "a2f8b16d-9a05-49eb-905a-aec6e7bf2b8b",
   "metadata": {},
   "source": [
    "### Use a spreadsheet, you silly data slacker"
   ]
  },
  {
   "cell_type": "markdown",
   "id": "6e8f4a7c-430d-4d71-9c64-59fdf44fd94a",
   "metadata": {},
   "source": [
    "No thanks. \n",
    "\n",
    "The Google course spends a lot of time in explaining how to do data analysis using spreadsheets. As my journey as a data enthusiast progresses, I have a harder and harder time differentiating between a data scientist and an excel superuser.\n",
    "\n",
    "That being said, if I have to perform the same transformations on multiple datasets, the python programming language seems to be the best solution. Having learned the hard way that people don't really want to see the code, I have sequestered my python script away from this article. For the interested reader you can find my python script here --> [Mike's python script](https://github.com/MikSm1th/GoogleCapstone/blob/main/GoogleCapstoneProcessStep.ipynb)"
   ]
  },
  {
   "cell_type": "code",
   "execution_count": null,
   "id": "8f2b78c2-c992-4126-9158-82642d47d5fb",
   "metadata": {},
   "outputs": [],
   "source": []
  }
 ],
 "metadata": {
  "kernelspec": {
   "display_name": "sera",
   "language": "python",
   "name": "sera"
  },
  "language_info": {
   "codemirror_mode": {
    "name": "ipython",
    "version": 3
   },
   "file_extension": ".py",
   "mimetype": "text/x-python",
   "name": "python",
   "nbconvert_exporter": "python",
   "pygments_lexer": "ipython3",
   "version": "3.8.10"
  }
 },
 "nbformat": 4,
 "nbformat_minor": 5
}
